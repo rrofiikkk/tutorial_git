{
 "cells": [
  {
   "cell_type": "code",
   "execution_count": 1,
   "id": "962fc412-2ba4-4adc-bee7-84cf04571db2",
   "metadata": {},
   "outputs": [
    {
     "name": "stdout",
     "output_type": "stream",
     "text": [
      "Hello Rofikk\n"
     ]
    }
   ],
   "source": [
    "print(\"Hello Rofikk\")"
   ]
  },
  {
   "cell_type": "code",
   "execution_count": null,
   "id": "6173de11-0843-4dac-bc38-4d65ed675e66",
   "metadata": {},
   "outputs": [],
   "source": []
  }
 ],
 "metadata": {
  "kernelspec": {
   "display_name": "Python 3 (ipykernel)",
   "language": "python",
   "name": "python3"
  },
  "language_info": {
   "codemirror_mode": {
    "name": "ipython",
    "version": 3
   },
   "file_extension": ".py",
   "mimetype": "text/x-python",
   "name": "python",
   "nbconvert_exporter": "python",
   "pygments_lexer": "ipython3",
   "version": "3.11.7"
  }
 },
 "nbformat": 4,
 "nbformat_minor": 5
}
